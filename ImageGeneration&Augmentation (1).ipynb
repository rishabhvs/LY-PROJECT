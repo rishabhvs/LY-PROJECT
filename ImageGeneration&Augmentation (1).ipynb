{
  "nbformat": 4,
  "nbformat_minor": 0,
  "metadata": {
    "colab": {
      "provenance": []
    },
    "kernelspec": {
      "name": "python3",
      "display_name": "Python 3"
    },
    "language_info": {
      "name": "python"
    }
  },
  "cells": [
    {
      "cell_type": "code",
      "execution_count": 40,
      "metadata": {
        "colab": {
          "base_uri": "https://localhost:8080/"
        },
        "id": "L7GYbsT3LeQo",
        "outputId": "a770d94e-42a6-426f-f324-4c3980d9e80c"
      },
      "outputs": [
        {
          "output_type": "stream",
          "name": "stdout",
          "text": [
            "Drive already mounted at /content/drive; to attempt to forcibly remount, call drive.mount(\"/content/drive\", force_remount=True).\n"
          ]
        }
      ],
      "source": [
        "from google.colab import drive\n",
        "drive.mount('/content/drive')"
      ]
    },
    {
      "cell_type": "code",
      "source": [
        "import os\n",
        "import cv2\n",
        "import shutil\n",
        "import pandas as pd\n",
        "import numpy as np"
      ],
      "metadata": {
        "id": "iJxcJ0MGTp1x"
      },
      "execution_count": 39,
      "outputs": []
    },
    {
      "cell_type": "code",
      "source": [
        "ORIGINAL_CLEANED ='/content/drive/MyDrive/KJSCE/LY/DL/ProjectData/ORIGINAL_CLEANED'\n",
        "HSV = '/content/drive/MyDrive/KJSCE/LY/DL/ProjectData/HSV'\n",
        "HSV_S ='/content/drive/MyDrive/KJSCE/LY/DL/ProjectData/HSV_S'\n",
        "ORIGINAL_BALANCED ='/content/drive/MyDrive/KJSCE/LY/DL/ProjectData/ORIGINAL_BALANCED'\n",
        "THRESHOLD = '/content/drive/MyDrive/KJSCE/LY/DL/ProjectData/THRESHOLD'"
      ],
      "metadata": {
        "id": "qxCE3x38Tcbr"
      },
      "execution_count": 13,
      "outputs": []
    },
    {
      "cell_type": "markdown",
      "source": [
        "# Convert and Save HSV , Saturation Layer "
      ],
      "metadata": {
        "id": "21PLUHq9-b-7"
      }
    },
    {
      "cell_type": "code",
      "source": [
        "run=False\n",
        "if run==True:\n",
        "  count=0\n",
        "  for root,dir,files in os.walk(ORIGINAL_CLEANED):\n",
        "    for name in files:\n",
        "        path = os.path.join(root,name)\n",
        "        hsv_path = os.path.join(root.replace('ORIGINAL_CLEANED','HSV'),name)\n",
        "        hsv_s_path = os.path.join(root.replace('ORIGINAL_CLEANED','HSV_S'),name)\n",
        "        print('\\n',path,'\\n',hsv_path,'\\n',hsv_s_path)\n",
        "        img = cv2.imread(path)\n",
        "        hsv_img = cv2.cvtColor(img, cv2.COLOR_BGR2HSV)\n",
        "        hsv_s_img = hsv_img[:,:,1]\n",
        "        cv2.imwrite(hsv_path,hsv_img)\n",
        "        cv2.imwrite(hsv_s_path,hsv_s_img)\n",
        "        count+=1\n",
        "  print(count,'images converted & saved')"
      ],
      "metadata": {
        "colab": {
          "base_uri": "https://localhost:8080/"
        },
        "id": "s7OXsRX9Ts4S",
        "outputId": "286c5cab-62e9-4bcd-e868-2aeef0168c49"
      },
      "execution_count": null,
      "outputs": [
        {
          "output_type": "stream",
          "name": "stdout",
          "text": [
            "1088 images converted & saved\n"
          ]
        }
      ]
    },
    {
      "cell_type": "markdown",
      "source": [
        "# Data Augmentation for Balanced Dataset Generation"
      ],
      "metadata": {
        "id": "x3QM6jGR-oiT"
      }
    },
    {
      "cell_type": "code",
      "source": [
        "run=False\n",
        "if run==True:\n",
        "  folder = '/diode_thermal'\n",
        "  nameslist = os.listdir(ORIGINAL_CLEANED+folder)\n",
        "  sampled = random.sample(nameslist,60)\n",
        "  count=0\n",
        "  for name in os.listdir(ORIGINAL_CLEANED+folder):\n",
        "    path=os.path.join(ORIGINAL_CLEANED+folder,name)\n",
        "    dest_path = os.path.join(ORIGINAL_BALANCED+folder,name)\n",
        "    img = cv2.imread(path)\n",
        "    cv2.imwrite(dest_path,img)\n",
        "    count+=1\n",
        "    if name in sampled:\n",
        "      hflip = cv2.flip(img,1)\n",
        "      cv2.imwrite(dest_path.replace('.jpg','_h.jpg'),hflip)\n",
        "      vflip = cv2.flip(img,0)\n",
        "      cv2.imwrite(dest_path.replace('.jpg','_v.jpg'),vflip)\n",
        "      hvflip = cv2.flip(vflip,1)\n",
        "      cv2.imwrite(dest_path.replace('.jpg','_hv.jpg'),hvflip)\n",
        "      count+=3\n",
        "\n",
        "  print('Original :',len(nameslist))\n",
        "  print('Final : ',count)\n",
        "\n"
      ],
      "metadata": {
        "colab": {
          "base_uri": "https://localhost:8080/"
        },
        "id": "dGY-1ymbpIcK",
        "outputId": "e2ecde78-c6dd-4aaf-ca7d-0be3a98b343f"
      },
      "execution_count": 13,
      "outputs": [
        {
          "output_type": "stream",
          "name": "stdout",
          "text": [
            "Original : 100\n",
            "Final :  280\n"
          ]
        }
      ]
    },
    {
      "cell_type": "code",
      "source": [
        "run=False\n",
        "if run==True:\n",
        "  folder = '/dust_thermal'\n",
        "  nameslist = os.listdir(ORIGINAL_CLEANED+folder)\n",
        "  sampled = random.sample(nameslist,39)\n",
        "  count=0\n",
        "  for name in os.listdir(ORIGINAL_CLEANED+folder):\n",
        "    path=os.path.join(ORIGINAL_CLEANED+folder,name)\n",
        "    dest_path = os.path.join(ORIGINAL_BALANCED+folder,name)\n",
        "    img = cv2.imread(path)\n",
        "    cv2.imwrite(dest_path,img)\n",
        "    count+=1\n",
        "    if name in sampled:\n",
        "      hflip = cv2.flip(img,1)\n",
        "      cv2.imwrite(dest_path.replace('.jpg','_h.jpg'),hflip)\n",
        "      vflip = cv2.flip(img,0)\n",
        "      cv2.imwrite(dest_path.replace('.jpg','_v.jpg'),vflip)\n",
        "      hvflip = cv2.flip(vflip,1)\n",
        "      cv2.imwrite(dest_path.replace('.jpg','_hv.jpg'),hvflip)\n",
        "      count+=3\n",
        "\n",
        "  print('Original :',len(nameslist))\n",
        "  print('Final : ',count)\n",
        "\n"
      ],
      "metadata": {
        "colab": {
          "base_uri": "https://localhost:8080/"
        },
        "id": "gzLHc7_sgYDh",
        "outputId": "db7d984a-053e-49d9-e980-4b3d7c69c281"
      },
      "execution_count": 14,
      "outputs": [
        {
          "output_type": "stream",
          "name": "stdout",
          "text": [
            "Original : 39\n",
            "Final :  156\n"
          ]
        }
      ]
    },
    {
      "cell_type": "code",
      "source": [
        "run=False\n",
        "if run==True:\n",
        "  folder = '/multi_thermal'\n",
        "  nameslist = os.listdir(ORIGINAL_CLEANED+folder)\n",
        "  sampled1 = random.sample(nameslist,50)\n",
        "  sampled2 = random.sample(nameslist,50)\n",
        "\n",
        "  count=0\n",
        "\n",
        "  for name in os.listdir(ORIGINAL_CLEANED+folder):\n",
        "    path=os.path.join(ORIGINAL_CLEANED+folder,name)\n",
        "    dest_path = os.path.join(ORIGINAL_BALANCED+folder,name)\n",
        "    img = cv2.imread(path)\n",
        "    cv2.imwrite(dest_path,img)\n",
        "    count+=1\n",
        "    if name in sampled1:\n",
        "      hflip = cv2.flip(img,1)\n",
        "      cv2.imwrite(dest_path.replace('.jpg','_h.jpg'),hflip)\n",
        "      count+=1\n",
        "\n",
        "    if name in sampled2:\n",
        "      vflip = cv2.flip(img,0)\n",
        "      cv2.imwrite(dest_path.replace('.jpg','_v.jpg'),vflip)\n",
        "      count+=1\n",
        "\n",
        "  print('Original :',len(nameslist))\n",
        "  print('Final : ',count)\n",
        "\n"
      ],
      "metadata": {
        "id": "6MjC117Hm6_U",
        "colab": {
          "base_uri": "https://localhost:8080/"
        },
        "outputId": "40d0080f-c904-4dfd-fc49-331c0f8a2fdb"
      },
      "execution_count": 16,
      "outputs": [
        {
          "output_type": "stream",
          "name": "stdout",
          "text": [
            "Original : 199\n",
            "Final :  299\n"
          ]
        }
      ]
    },
    {
      "cell_type": "code",
      "source": [
        "run=False\n",
        "if run==True:\n",
        "  folder = '/PID_thermal'\n",
        "  nameslist = os.listdir(ORIGINAL_CLEANED+folder)\n",
        "  sampled1 = random.sample(nameslist,50)\n",
        "  sampled2 = random.sample(nameslist,50)\n",
        "\n",
        "  count=0\n",
        "\n",
        "  for name in os.listdir(ORIGINAL_CLEANED+folder):\n",
        "    path=os.path.join(ORIGINAL_CLEANED+folder,name)\n",
        "    dest_path = os.path.join(ORIGINAL_BALANCED+folder,name)\n",
        "    img = cv2.imread(path)\n",
        "    cv2.imwrite(dest_path,img)\n",
        "    count+=1\n",
        "    if name in sampled1:\n",
        "      hflip = cv2.flip(img,1)\n",
        "      cv2.imwrite(dest_path.replace('.jpg','_h.jpg'),hflip)\n",
        "      count+=1\n",
        "\n",
        "    if name in sampled2:\n",
        "      vflip = cv2.flip(img,0)\n",
        "      cv2.imwrite(dest_path.replace('.jpg','_v.jpg'),vflip)\n",
        "      count+=1\n",
        "\n",
        "  print('Original :',len(nameslist))\n",
        "  print('Final : ',count)\n",
        "\n"
      ],
      "metadata": {
        "colab": {
          "base_uri": "https://localhost:8080/"
        },
        "id": "SoD0qxY-jKLM",
        "outputId": "2689a33d-d2cf-4db9-d8da-3fd0f2ae1d5b"
      },
      "execution_count": 17,
      "outputs": [
        {
          "output_type": "stream",
          "name": "stdout",
          "text": [
            "Original : 250\n",
            "Final :  350\n"
          ]
        }
      ]
    },
    {
      "cell_type": "markdown",
      "source": [
        "# Generate Ground Truth Threshold"
      ],
      "metadata": {
        "id": "nS8R7CU_-TbE"
      }
    },
    {
      "cell_type": "code",
      "source": [
        "df=pd.read_csv('/content/drive/MyDrive/KJSCE/LY/DL/ProjectData/cleaned_annotatation_data.csv')\n",
        "df=df.iloc[:,1:6]\n",
        "df"
      ],
      "metadata": {
        "colab": {
          "base_uri": "https://localhost:8080/",
          "height": 424
        },
        "id": "DsTvkHjYeIHK",
        "outputId": "be39a40b-981c-4779-e0e6-d0ec6b2043e4"
      },
      "execution_count": 23,
      "outputs": [
        {
          "output_type": "execute_result",
          "data": {
            "text/plain": [
              "             image        xmin        ymin        xmax        ymax\n",
              "0     FLIR0105.jpg    0.392157  129.803922  313.333333  179.607843\n",
              "1     FLIR0149.jpg    0.392157  102.352941  303.137255  139.215686\n",
              "2     FLIR0149.jpg  292.156863  150.588235  319.215686  167.058823\n",
              "3     FLIR0153.jpg   29.019608  128.235294  297.254902  153.333333\n",
              "4     FLIR0153.jpg  278.039216  163.137255  312.549020  183.529412\n",
              "...            ...         ...         ...         ...         ...\n",
              "1821  FLIR1241.jpg  250.000000  169.000000  285.000000  199.000000\n",
              "1822  FLIR1243.jpg  126.250000  157.083333  159.583333  201.250000\n",
              "1823  FLIR1248.jpg   86.666667  175.000000  119.166667  195.000000\n",
              "1824  FLIR1253.jpg  175.000000   71.250000  204.166667   98.750000\n",
              "1825  FLIR1258.jpg  165.833333  166.666667  190.416667  185.000000\n",
              "\n",
              "[1826 rows x 5 columns]"
            ],
            "text/html": [
              "\n",
              "  <div id=\"df-63ced240-5da4-4b1f-85e3-ad9068d33eff\">\n",
              "    <div class=\"colab-df-container\">\n",
              "      <div>\n",
              "<style scoped>\n",
              "    .dataframe tbody tr th:only-of-type {\n",
              "        vertical-align: middle;\n",
              "    }\n",
              "\n",
              "    .dataframe tbody tr th {\n",
              "        vertical-align: top;\n",
              "    }\n",
              "\n",
              "    .dataframe thead th {\n",
              "        text-align: right;\n",
              "    }\n",
              "</style>\n",
              "<table border=\"1\" class=\"dataframe\">\n",
              "  <thead>\n",
              "    <tr style=\"text-align: right;\">\n",
              "      <th></th>\n",
              "      <th>image</th>\n",
              "      <th>xmin</th>\n",
              "      <th>ymin</th>\n",
              "      <th>xmax</th>\n",
              "      <th>ymax</th>\n",
              "    </tr>\n",
              "  </thead>\n",
              "  <tbody>\n",
              "    <tr>\n",
              "      <th>0</th>\n",
              "      <td>FLIR0105.jpg</td>\n",
              "      <td>0.392157</td>\n",
              "      <td>129.803922</td>\n",
              "      <td>313.333333</td>\n",
              "      <td>179.607843</td>\n",
              "    </tr>\n",
              "    <tr>\n",
              "      <th>1</th>\n",
              "      <td>FLIR0149.jpg</td>\n",
              "      <td>0.392157</td>\n",
              "      <td>102.352941</td>\n",
              "      <td>303.137255</td>\n",
              "      <td>139.215686</td>\n",
              "    </tr>\n",
              "    <tr>\n",
              "      <th>2</th>\n",
              "      <td>FLIR0149.jpg</td>\n",
              "      <td>292.156863</td>\n",
              "      <td>150.588235</td>\n",
              "      <td>319.215686</td>\n",
              "      <td>167.058823</td>\n",
              "    </tr>\n",
              "    <tr>\n",
              "      <th>3</th>\n",
              "      <td>FLIR0153.jpg</td>\n",
              "      <td>29.019608</td>\n",
              "      <td>128.235294</td>\n",
              "      <td>297.254902</td>\n",
              "      <td>153.333333</td>\n",
              "    </tr>\n",
              "    <tr>\n",
              "      <th>4</th>\n",
              "      <td>FLIR0153.jpg</td>\n",
              "      <td>278.039216</td>\n",
              "      <td>163.137255</td>\n",
              "      <td>312.549020</td>\n",
              "      <td>183.529412</td>\n",
              "    </tr>\n",
              "    <tr>\n",
              "      <th>...</th>\n",
              "      <td>...</td>\n",
              "      <td>...</td>\n",
              "      <td>...</td>\n",
              "      <td>...</td>\n",
              "      <td>...</td>\n",
              "    </tr>\n",
              "    <tr>\n",
              "      <th>1821</th>\n",
              "      <td>FLIR1241.jpg</td>\n",
              "      <td>250.000000</td>\n",
              "      <td>169.000000</td>\n",
              "      <td>285.000000</td>\n",
              "      <td>199.000000</td>\n",
              "    </tr>\n",
              "    <tr>\n",
              "      <th>1822</th>\n",
              "      <td>FLIR1243.jpg</td>\n",
              "      <td>126.250000</td>\n",
              "      <td>157.083333</td>\n",
              "      <td>159.583333</td>\n",
              "      <td>201.250000</td>\n",
              "    </tr>\n",
              "    <tr>\n",
              "      <th>1823</th>\n",
              "      <td>FLIR1248.jpg</td>\n",
              "      <td>86.666667</td>\n",
              "      <td>175.000000</td>\n",
              "      <td>119.166667</td>\n",
              "      <td>195.000000</td>\n",
              "    </tr>\n",
              "    <tr>\n",
              "      <th>1824</th>\n",
              "      <td>FLIR1253.jpg</td>\n",
              "      <td>175.000000</td>\n",
              "      <td>71.250000</td>\n",
              "      <td>204.166667</td>\n",
              "      <td>98.750000</td>\n",
              "    </tr>\n",
              "    <tr>\n",
              "      <th>1825</th>\n",
              "      <td>FLIR1258.jpg</td>\n",
              "      <td>165.833333</td>\n",
              "      <td>166.666667</td>\n",
              "      <td>190.416667</td>\n",
              "      <td>185.000000</td>\n",
              "    </tr>\n",
              "  </tbody>\n",
              "</table>\n",
              "<p>1826 rows × 5 columns</p>\n",
              "</div>\n",
              "      <button class=\"colab-df-convert\" onclick=\"convertToInteractive('df-63ced240-5da4-4b1f-85e3-ad9068d33eff')\"\n",
              "              title=\"Convert this dataframe to an interactive table.\"\n",
              "              style=\"display:none;\">\n",
              "        \n",
              "  <svg xmlns=\"http://www.w3.org/2000/svg\" height=\"24px\"viewBox=\"0 0 24 24\"\n",
              "       width=\"24px\">\n",
              "    <path d=\"M0 0h24v24H0V0z\" fill=\"none\"/>\n",
              "    <path d=\"M18.56 5.44l.94 2.06.94-2.06 2.06-.94-2.06-.94-.94-2.06-.94 2.06-2.06.94zm-11 1L8.5 8.5l.94-2.06 2.06-.94-2.06-.94L8.5 2.5l-.94 2.06-2.06.94zm10 10l.94 2.06.94-2.06 2.06-.94-2.06-.94-.94-2.06-.94 2.06-2.06.94z\"/><path d=\"M17.41 7.96l-1.37-1.37c-.4-.4-.92-.59-1.43-.59-.52 0-1.04.2-1.43.59L10.3 9.45l-7.72 7.72c-.78.78-.78 2.05 0 2.83L4 21.41c.39.39.9.59 1.41.59.51 0 1.02-.2 1.41-.59l7.78-7.78 2.81-2.81c.8-.78.8-2.07 0-2.86zM5.41 20L4 18.59l7.72-7.72 1.47 1.35L5.41 20z\"/>\n",
              "  </svg>\n",
              "      </button>\n",
              "      \n",
              "  <style>\n",
              "    .colab-df-container {\n",
              "      display:flex;\n",
              "      flex-wrap:wrap;\n",
              "      gap: 12px;\n",
              "    }\n",
              "\n",
              "    .colab-df-convert {\n",
              "      background-color: #E8F0FE;\n",
              "      border: none;\n",
              "      border-radius: 50%;\n",
              "      cursor: pointer;\n",
              "      display: none;\n",
              "      fill: #1967D2;\n",
              "      height: 32px;\n",
              "      padding: 0 0 0 0;\n",
              "      width: 32px;\n",
              "    }\n",
              "\n",
              "    .colab-df-convert:hover {\n",
              "      background-color: #E2EBFA;\n",
              "      box-shadow: 0px 1px 2px rgba(60, 64, 67, 0.3), 0px 1px 3px 1px rgba(60, 64, 67, 0.15);\n",
              "      fill: #174EA6;\n",
              "    }\n",
              "\n",
              "    [theme=dark] .colab-df-convert {\n",
              "      background-color: #3B4455;\n",
              "      fill: #D2E3FC;\n",
              "    }\n",
              "\n",
              "    [theme=dark] .colab-df-convert:hover {\n",
              "      background-color: #434B5C;\n",
              "      box-shadow: 0px 1px 3px 1px rgba(0, 0, 0, 0.15);\n",
              "      filter: drop-shadow(0px 1px 2px rgba(0, 0, 0, 0.3));\n",
              "      fill: #FFFFFF;\n",
              "    }\n",
              "  </style>\n",
              "\n",
              "      <script>\n",
              "        const buttonEl =\n",
              "          document.querySelector('#df-63ced240-5da4-4b1f-85e3-ad9068d33eff button.colab-df-convert');\n",
              "        buttonEl.style.display =\n",
              "          google.colab.kernel.accessAllowed ? 'block' : 'none';\n",
              "\n",
              "        async function convertToInteractive(key) {\n",
              "          const element = document.querySelector('#df-63ced240-5da4-4b1f-85e3-ad9068d33eff');\n",
              "          const dataTable =\n",
              "            await google.colab.kernel.invokeFunction('convertToInteractive',\n",
              "                                                     [key], {});\n",
              "          if (!dataTable) return;\n",
              "\n",
              "          const docLinkHtml = 'Like what you see? Visit the ' +\n",
              "            '<a target=\"_blank\" href=https://colab.research.google.com/notebooks/data_table.ipynb>data table notebook</a>'\n",
              "            + ' to learn more about interactive tables.';\n",
              "          element.innerHTML = '';\n",
              "          dataTable['output_type'] = 'display_data';\n",
              "          await google.colab.output.renderOutput(dataTable, element);\n",
              "          const docLink = document.createElement('div');\n",
              "          docLink.innerHTML = docLinkHtml;\n",
              "          element.appendChild(docLink);\n",
              "        }\n",
              "      </script>\n",
              "    </div>\n",
              "  </div>\n",
              "  "
            ]
          },
          "metadata": {},
          "execution_count": 23
        }
      ]
    },
    {
      "cell_type": "code",
      "source": [
        "run=False\n",
        "if run==True:\n",
        "  folder = '/single_thermal'\n",
        "  nameslist = os.listdir(ORIGINAL_CLEANED+folder)\n",
        "\n",
        "  count=0\n",
        "\n",
        "  for name in os.listdir(ORIGINAL_CLEANED+folder):\n",
        "    path=os.path.join(ORIGINAL_CLEANED+folder,name)\n",
        "    dest_path = os.path.join(ORIGINAL_BALANCED+folder,name)\n",
        "    img = cv2.imread(path)\n",
        "    cv2.imwrite(dest_path,img)\n",
        "    count+=1\n",
        "\n",
        "  print('Original :',len(nameslist))\n",
        "  print('Final : ',count)\n",
        "\n"
      ],
      "metadata": {
        "colab": {
          "base_uri": "https://localhost:8080/"
        },
        "id": "V7sL0UY5jdaN",
        "outputId": "083c99a3-1b60-42d4-d098-64a6d937a90c"
      },
      "execution_count": 18,
      "outputs": [
        {
          "output_type": "stream",
          "name": "stdout",
          "text": [
            "Original : 500\n",
            "Final :  500\n"
          ]
        }
      ]
    },
    {
      "cell_type": "code",
      "source": [
        "def get_boxes(name):\n",
        "  return df[df['image'] == name].iloc[:,1:].values.tolist()"
      ],
      "metadata": {
        "colab": {
          "base_uri": "https://localhost:8080/"
        },
        "id": "7hXPLVPUgdId",
        "outputId": "dd386e95-c3b8-4262-fbd4-9287ff2443e2"
      },
      "execution_count": 42,
      "outputs": [
        {
          "output_type": "execute_result",
          "data": {
            "text/plain": [
              "[[29.01960784, 128.2352941, 297.254902, 153.3333333],\n",
              " [278.0392157, 163.1372549, 312.5490196, 183.5294118]]"
            ]
          },
          "metadata": {},
          "execution_count": 42
        }
      ]
    },
    {
      "cell_type": "code",
      "source": [
        "run=False\n",
        "if run==True:\n",
        "  count=0\n",
        "  for root,dir,files in os.walk(ORIGINAL_CLEANED):\n",
        "    for name in files:\n",
        "        path = os.path.join(root,name)\n",
        "        img = np.zeros((240,320,3), dtype = np.uint8)\n",
        "        thresh_path = os.path.join(root.replace('ORIGINAL_CLEANED','THRESHOLD'),name)\n",
        "        boxes = get_boxes(name)\n",
        "        for x1,y1,x2,y2 in boxes:\n",
        "          thresh_img = cv2.rectangle(img, (int(x1), int(y1)), (int(x2), int(y2)), (255, 255, 255), -1)\n",
        "        cv2.imwrite(thresh_path,thresh_img)\n",
        "        count+=1\n",
        "  print(count,'images converted & saved')"
      ],
      "metadata": {
        "colab": {
          "base_uri": "https://localhost:8080/"
        },
        "id": "OJOckn_CdDPw",
        "outputId": "c3da33a3-79bf-4da9-d361-012bd9f5747c"
      },
      "execution_count": 37,
      "outputs": [
        {
          "output_type": "stream",
          "name": "stdout",
          "text": [
            "1088 images converted & saved\n"
          ]
        }
      ]
    }
  ]
}