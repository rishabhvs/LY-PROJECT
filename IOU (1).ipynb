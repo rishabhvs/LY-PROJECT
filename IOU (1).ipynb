{
  "nbformat": 4,
  "nbformat_minor": 0,
  "metadata": {
    "colab": {
      "provenance": []
    },
    "kernelspec": {
      "name": "python3",
      "display_name": "Python 3"
    },
    "language_info": {
      "name": "python"
    }
  },
  "cells": [
    {
      "cell_type": "code",
      "execution_count": 37,
      "metadata": {
        "id": "PbArGOAonqvZ"
      },
      "outputs": [],
      "source": [
        "import cv2\n",
        "import numpy as np\n",
        "from google.colab.patches import cv2_imshow"
      ]
    },
    {
      "cell_type": "markdown",
      "source": [
        "# MultiBox IOU Implementation"
      ],
      "metadata": {
        "id": "ed1fCZqp9L7z"
      }
    },
    {
      "cell_type": "code",
      "source": [
        "def calcIOU(ground_boxes,pred_boxes):\n",
        "  img1 = np.zeros((240,320,3), dtype = np.uint8)\n",
        "  img2 = np.zeros((240,320,3), dtype = np.uint8)\n",
        "\n",
        "  for x1,y1,x2,y2 in ground_boxes:\n",
        "    ground = cv2.rectangle(img1, (int(x1), int(y1)), (int(x2), int(y2)), (255, 255, 255), -1)\n",
        "\n",
        "  for x1,y1,x2,y2 in pred_boxes:\n",
        "    pred = cv2.rectangle(img2, (int(x1), int(y1)), (int(x2), int(y2)), (255, 255, 255), -1)\n",
        "\n",
        "  print('\\n~~~~~~~~~~~~~~~~  GROUND  ~~~~~~~~~~~~~~~~\\n')\n",
        "  cv2_imshow(ground)\n",
        "  print('\\n~~~~~~~~~~~~~~  PREDICTED  ~~~~~~~~~~~~~~~\\n')\n",
        "  cv2_imshow(pred)\n",
        "  union = cv2.bitwise_or(ground,pred)\n",
        "  intersection = cv2.bitwise_and(ground,pred)\n",
        "\n",
        "  img_gray = cv2.cvtColor(union, cv2.COLOR_BGR2GRAY)\n",
        "  contours, hierarchy = cv2.findContours(image=img_gray, mode=cv2.RETR_TREE, method=cv2.CHAIN_APPROX_NONE)\n",
        "  union_copy = union.copy()\n",
        "  cv2.drawContours(image=union_copy, contours=contours, contourIdx=-1, color=(0, 255, 0), thickness=1, lineType=cv2.LINE_AA)  \n",
        "  union_area = sum([cv2.contourArea(contour) for contour in contours]) \n",
        "  print('\\n~~~~~~~~~~~~~~~~  UNION  ~~~~~~~~~~~~~~~~\\n')                     \n",
        "  cv2_imshow(union_copy)\n",
        "\n",
        "  img_gray = cv2.cvtColor(intersection, cv2.COLOR_BGR2GRAY)\n",
        "  contours, hierarchy = cv2.findContours(image=img_gray, mode=cv2.RETR_TREE, method=cv2.CHAIN_APPROX_NONE)\n",
        "  intersection_copy = intersection.copy()\n",
        "  cv2.drawContours(image=intersection_copy, contours=contours, contourIdx=-1, color=(0, 255, 0), thickness=1, lineType=cv2.LINE_AA)  \n",
        "  intersection_area = sum([cv2.contourArea(contour) for contour in contours]) \n",
        "  print('\\n~~~~~~~~~~~~~  INTERSECTION  ~~~~~~~~~~~~~\\n')                      \n",
        "  cv2_imshow(intersection_copy)\n",
        "\n",
        "  print('\\n~~~~~~~~~~~~~~~~~~~~~~~~~~~~~~~~~~~~~~~~~~\\n')\n",
        "  print('Intersection Area:',intersection_area)\n",
        "  print('Union Area:',union_area)\n",
        "  IOU = round(intersection_area/union_area,5)\n",
        "  print('IOU Score: ',IOU)"
      ],
      "metadata": {
        "id": "J1in6owEkUlI"
      },
      "execution_count": 29,
      "outputs": []
    },
    {
      "cell_type": "code",
      "source": [
        "ground_boxes = [[29.01960784, 128.2352941, 297.254902, 153.3333333],[278.0392157, 163.1372549, 312.5490196, 183.5294118]]\n",
        "pred_boxes = [[32.01960784, 128.2352941, 295.254902, 150.3333333],[278.0392157, 163.1372549, 312.5490196, 183.5294118]]\n",
        "calcIOU(ground_boxes,pred_boxes)"
      ],
      "metadata": {
        "colab": {
          "base_uri": "https://localhost:8080/",
          "height": 1000
        },
        "id": "NzEPG8935a_k",
        "outputId": "7703d58b-dc83-4416-f5dd-6a931d60e0d5"
      },
      "execution_count": 36,
      "outputs": [
        {
          "output_type": "stream",
          "name": "stdout",
          "text": [
            "\n",
            "~~~~~~~~~~~~~~~~  GROUND  ~~~~~~~~~~~~~~~~\n",
            "\n"
          ]
        },
        {
          "output_type": "display_data",
          "data": {
            "text/plain": [
              "<PIL.Image.Image image mode=RGB size=320x240 at 0x7FCC74969D90>"
            ],
            "image/png": "[encoded data removed]"
          },
          "metadata": {}
        },
        {
          "output_type": "stream",
          "name": "stdout",
          "text": [
            "\n",
            "~~~~~~~~~~~~~~  PREDICTED  ~~~~~~~~~~~~~~~\n",
            "\n"
          ]
        },
        {
          "output_type": "display_data",
          "data": {
            "text/plain": [
              "<PIL.Image.Image image mode=RGB size=320x240 at 0x7FCC74969040>"
            ],
            "image/png": "[encoded data removed]"
          },
          "metadata": {}
        },
        {
          "output_type": "stream",
          "name": "stdout",
          "text": [
            "\n",
            "~~~~~~~~~~~~~~~~  UNION  ~~~~~~~~~~~~~~~~\n",
            "\n"
          ]
        },
        {
          "output_type": "display_data",
          "data": {
            "text/plain": [
              "<PIL.Image.Image image mode=RGB size=320x240 at 0x7FCC74969E20>"
            ],
            "image/png": "[encoded data removed]"
          },
          "metadata": {}
        },
        {
          "output_type": "stream",
          "name": "stdout",
          "text": [
            "\n",
            "~~~~~~~~~~~~~  INTERSECTION  ~~~~~~~~~~~~~\n",
            "\n"
          ]
        },
        {
          "output_type": "display_data",
          "data": {
            "text/plain": [
              "<PIL.Image.Image image mode=RGB size=320x240 at 0x7FCC749695E0>"
            ],
            "image/png": "[encoded data removed]"
          },
          "metadata": {}
        },
        {
          "output_type": "stream",
          "name": "stdout",
          "text": [
            "\n",
            "~~~~~~~~~~~~~~~~~~~~~~~~~~~~~~~~~~~~~~~~~~\n",
            "\n",
            "Intersection Area: 6466.0\n",
            "Union Area: 7380.0\n",
            "IOU Score:  0.87615\n"
          ]
        }
      ]
    },
    {
      "cell_type": "markdown",
      "source": [
        "# SINGLE BOX IOU"
      ],
      "metadata": {
        "id": "59KxbIow7n1N"
      }
    },
    {
      "cell_type": "code",
      "source": [
        "box1 = 270.0392157,140.8235294,305.4509804,163.6078431\n",
        "box2 = 272.0392157,145.8235294,305.4509804,163.6078431"
      ],
      "metadata": {
        "id": "wGvitMnpsv6f"
      },
      "execution_count": 25,
      "outputs": []
    },
    {
      "cell_type": "code",
      "source": [
        "x1, y1, x2, y2 = box1 \n",
        "x3, y3, x4, y4 = box2\n",
        "x_inter1 = int(max(x1, x3))\n",
        "y_inter1 = int(max(y1, y3))\n",
        "x_inter2 = int(min(x2, x4))\n",
        "y_inter2 = int(min(y2, y4))\n",
        "width_inter = abs(x_inter2 - x_inter1) \n",
        "height_inter = abs(y_inter2 - y_inter1)\n",
        "area_inter = width_inter*height_inter\n",
        "width_box1 = abs(x2-x1)\n",
        "height_box1 = abs(y2 - y1)\n",
        "width_box2 = abs(x4 - x3)\n",
        "height_box2 = abs(y4 - y3)\n",
        "area_box1 = width_box1*height_box1\n",
        "area_box2 = width_box2*height_box2\n",
        "area_union = area_box1 + area_box2 - area_inter\n",
        "iou = area_inter / area_union\n",
        "print(round(iou,5))"
      ],
      "metadata": {
        "id": "4BI3In6VrlHH",
        "colab": {
          "base_uri": "https://localhost:8080/"
        },
        "outputId": "0f335e02-7f33-4336-dd36-c46626ed64ed"
      },
      "execution_count": 24,
      "outputs": [
        {
          "output_type": "stream",
          "name": "stdout",
          "text": [
            "0.73602\n"
          ]
        }
      ]
    },
    {
      "cell_type": "code",
      "source": [
        "print(area_inter)"
      ],
      "metadata": {
        "colab": {
          "base_uri": "https://localhost:8080/"
        },
        "id": "0Sqevl9kdyDq",
        "outputId": "9072a65d-a8be-4af6-83fd-8b145759cd5c"
      },
      "execution_count": 26,
      "outputs": [
        {
          "output_type": "stream",
          "name": "stdout",
          "text": [
            "594\n"
          ]
        }
      ]
    },
    {
      "cell_type": "code",
      "source": [
        "print(area_union)"
      ],
      "metadata": {
        "colab": {
          "base_uri": "https://localhost:8080/"
        },
        "id": "vTiClILpd4FI",
        "outputId": "ec272915-6d09-48e5-85a9-63064cb661ca"
      },
      "execution_count": 27,
      "outputs": [
        {
          "output_type": "stream",
          "name": "stdout",
          "text": [
            "807.0380602907712\n"
          ]
        }
      ]
    },
    {
      "cell_type": "code",
      "source": [],
      "metadata": {
        "id": "DSYN4ZJPd7W5"
      },
      "execution_count": null,
      "outputs": []
    }
  ]
}